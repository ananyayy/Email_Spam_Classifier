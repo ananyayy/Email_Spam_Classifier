{
 "cells": [
  {
   "cell_type": "markdown",
   "id": "82318133-44c6-47ff-bd2b-71c222f602de",
   "metadata": {},
   "source": [
    "#### IMPORT DEPENDENCIES "
   ]
  },
  {
   "cell_type": "code",
   "execution_count": 1,
   "id": "450c8a54-0ee1-42a7-9121-7debf0dc12fc",
   "metadata": {
    "tags": []
   },
   "outputs": [],
   "source": [
    "import sklearn \n",
    "import email\n",
    "import numpy as np\n",
    "import os\n",
    "import pandas as pd\n",
    "from bs4 import BeautifulSoup\n",
    "import re\n",
    "import matplotlib.pyplot as plt\n",
    "import seaborn as sns\n",
    "import nltk\n",
    "from nltk.stem import PorterStemmer\n",
    "from nltk.stem import WordNetLemmatizer\n",
    "from nltk.corpus import stopwords\n",
    "from sklearn.feature_extraction.text import CountVectorizer\n",
    "from sklearn.model_selection import train_test_split\n",
    "from sklearn.ensemble import RandomForestClassifier\n",
    "from sklearn.metrics import confusion_matrix, accuracy_score,precision_score,recall_score, classification_report, f1_score,precision_recall_curve"
   ]
  },
  {
   "cell_type": "markdown",
   "id": "f99d64bc-8f79-4721-afb1-9b7ce6d23a0d",
   "metadata": {},
   "source": [
    "#### DATA PRE-PROCESSING "
   ]
  },
  {
   "cell_type": "code",
   "execution_count": 81,
   "id": "c6f83378-9483-4793-a2d4-4c129be6e5dc",
   "metadata": {
    "tags": []
   },
   "outputs": [],
   "source": [
    "mailist = []\n",
    "def data_tokenize(df):\n",
    "    lemm = WordNetLemmatizer()\n",
    "    for i in range(len(df)):\n",
    "            rev = re.sub('[^a-zA-Z]',' ',df['mails'][i])\n",
    "            rev = rev.lower()\n",
    "            rev = rev.split()\n",
    "            rev = [lemm.lemmatize(word) for word in rev if word not in set(stopwords.words('english'))]\n",
    "            rev = ' '.join(rev)\n",
    "            mailist.append(rev)\n",
    "\n",
    "    cv = CountVectorizer(max_features =1000)\n",
    "    x = cv.fit_transform(mailist).toarray()\n",
    "    return x \n"
   ]
  },
  {
   "cell_type": "code",
   "execution_count": 57,
   "id": "fc4678e4-c6ca-4749-837c-5ecf186b73be",
   "metadata": {
    "tags": []
   },
   "outputs": [],
   "source": [
    "#spam no files = 1397\n",
    "#easy spam = 2551\n",
    "#hard ham = 250 \n",
    "#total = 4198\n",
    "mails = []\n",
    "\n",
    "def clean_data(path):\n",
    "    c = 0\n",
    "    for file  in os.scandir(path):\n",
    "        with open(file,'r',encoding='ISO-8859-1', errors = 'replace') as f:\n",
    "            raw = f.read()\n",
    "            msg = email.message_from_string(raw)\n",
    "            if msg.is_multipart():\n",
    "                for i in msg.walk():\n",
    "                    j = i.get_content_type()\n",
    "                    if j == 'text/plain':\n",
    "                         data = i.get_payload(decode= True)\n",
    "                    elif j == 'text/html':\n",
    "                        cont =  i.get_payload(decode= True)\n",
    "                        soup = BeautifulSoup(cont,'html.parser')\n",
    "                        para = soup.get_text(strip=True)\n",
    "                        data = para \n",
    "\n",
    "\n",
    "            else:\n",
    "                if msg.get_content_type() == 'text/plain':\n",
    "                    data = msg.get_payload(decode=True)\n",
    "                else:\n",
    "                    \n",
    "                    html_cont = msg.get_payload(decode=True)\n",
    "                    soup = BeautifulSoup(html_cont,'html.parser')\n",
    "                    para = soup.get_text(strip=True)\n",
    "                    data = para \n",
    "                \n",
    "            if os.path.basename(path) == 'spam_2':\n",
    "                label = 1 \n",
    "            else:\n",
    "                label= 0\n",
    "\n",
    "            if isinstance(data,bytes):\n",
    "                data = data.decode('ISO-8859-1')\n",
    "            mails.append({'mails': data,'label':label })    \n",
    "        \n",
    "  \n",
    "    return  mails\n"
   ]
  },
  {
   "cell_type": "code",
   "execution_count": 4,
   "id": "a5f91644-803c-4b82-a254-1dab1f9014c4",
   "metadata": {},
   "outputs": [],
   "source": [
    "easy_ham= 'data/easy_ham/easy_ham'\n",
    "hard_ham= 'data/hard_ham/hard_ham'\n",
    "spam_ = 'data/spam_2/spam_2'"
   ]
  },
  {
   "cell_type": "code",
   "execution_count": 5,
   "id": "ffa96344-c6a8-4136-8f71-8da8f20b7c57",
   "metadata": {
    "collapsed": true,
    "jupyter": {
     "outputs_hidden": true
    },
    "tags": []
   },
   "outputs": [
    {
     "name": "stderr",
     "output_type": "stream",
     "text": [
      "Some characters could not be decoded, and were replaced with REPLACEMENT CHARACTER.\n"
     ]
    }
   ],
   "source": [
    "hham = clean_data(hard_ham)\n",
    "eham = clean_data(easy_ham)\n",
    "spam = clean_data(spam_)"
   ]
  },
  {
   "cell_type": "code",
   "execution_count": 6,
   "id": "87d25e24-28c7-4335-944d-891f43b3b85d",
   "metadata": {
    "tags": []
   },
   "outputs": [
    {
     "data": {
      "text/html": [
       "<div>\n",
       "<style scoped>\n",
       "    .dataframe tbody tr th:only-of-type {\n",
       "        vertical-align: middle;\n",
       "    }\n",
       "\n",
       "    .dataframe tbody tr th {\n",
       "        vertical-align: top;\n",
       "    }\n",
       "\n",
       "    .dataframe thead th {\n",
       "        text-align: right;\n",
       "    }\n",
       "</style>\n",
       "<table border=\"1\" class=\"dataframe\">\n",
       "  <thead>\n",
       "    <tr style=\"text-align: right;\">\n",
       "      <th></th>\n",
       "      <th>mails</th>\n",
       "      <th>label</th>\n",
       "    </tr>\n",
       "  </thead>\n",
       "  <tbody>\n",
       "    <tr>\n",
       "      <th>0</th>\n",
       "      <td>Cable companies cracking down on Wi-FiSearchNe...</td>\n",
       "      <td>0</td>\n",
       "    </tr>\n",
       "    <tr>\n",
       "      <th>1</th>\n",
       "      <td>Shopper Newsletter: AlertsLive tech help NOW!A...</td>\n",
       "      <td>0</td>\n",
       "    </tr>\n",
       "    <tr>\n",
       "      <th>2</th>\n",
       "      <td>CNET | DOWNLOAD DISPATCH(Mac Edition)\\nJuly 9,...</td>\n",
       "      <td>0</td>\n",
       "    </tr>\n",
       "    <tr>\n",
       "      <th>3</th>\n",
       "      <td>Today's Headlines from The Register\\n---------...</td>\n",
       "      <td>0</td>\n",
       "    </tr>\n",
       "    <tr>\n",
       "      <th>4</th>\n",
       "      <td>20020709 Lockergnome Penguin Shell07.09.2002 P...</td>\n",
       "      <td>0</td>\n",
       "    </tr>\n",
       "  </tbody>\n",
       "</table>\n",
       "</div>"
      ],
      "text/plain": [
       "                                               mails  label\n",
       "0  Cable companies cracking down on Wi-FiSearchNe...      0\n",
       "1  Shopper Newsletter: AlertsLive tech help NOW!A...      0\n",
       "2  CNET | DOWNLOAD DISPATCH(Mac Edition)\\nJuly 9,...      0\n",
       "3  Today's Headlines from The Register\\n---------...      0\n",
       "4  20020709 Lockergnome Penguin Shell07.09.2002 P...      0"
      ]
     },
     "execution_count": 6,
     "metadata": {},
     "output_type": "execute_result"
    }
   ],
   "source": [
    "df_mails =pd.DataFrame(hham)\n",
    "df_mails.head()"
   ]
  },
  {
   "cell_type": "code",
   "execution_count": 7,
   "id": "225dace6-7dd6-4782-bd2c-73c113b62a5a",
   "metadata": {},
   "outputs": [],
   "source": [
    "spam =df_mails['label'].value_counts()\n",
    "ham =  df_mails[df_mails['label']==0].count()\n",
    "lab = ['spam','ham']"
   ]
  },
  {
   "cell_type": "code",
   "execution_count": 8,
   "id": "594a07f8-2715-4c24-8800-41fae60f48d5",
   "metadata": {
    "tags": []
   },
   "outputs": [
    {
     "data": {
      "text/plain": [
       "<BarContainer object of 2 artists>"
      ]
     },
     "execution_count": 8,
     "metadata": {},
     "output_type": "execute_result"
    },
    {
     "data": {
      "image/png": "[encoded data removed]",
      "text/plain": [
       "<Figure size 400x300 with 1 Axes>"
      ]
     },
     "metadata": {},
     "output_type": "display_data"
    }
   ],
   "source": [
    "count = np.array([spam[0],spam[1]])\n",
    "plt.figure(figsize=(4,3))\n",
    "plt.bar(lab,count)"
   ]
  },
  {
   "cell_type": "code",
   "execution_count": 9,
   "id": "bde84707-180f-4fd0-b513-6581accb5438",
   "metadata": {
    "tags": []
   },
   "outputs": [],
   "source": [
    "data_tokens = data_tokenize(df_mails)"
   ]
  },
  {
   "cell_type": "code",
   "execution_count": 10,
   "id": "bee5516c-e4b1-4b08-ad05-deded2194703",
   "metadata": {},
   "outputs": [],
   "source": [
    "df_tokens = pd.DataFrame(data_tokens)"
   ]
  },
  {
   "cell_type": "code",
   "execution_count": 11,
   "id": "77fdc14c-1904-4fbe-bbb8-6e02a03e6f4b",
   "metadata": {
    "tags": []
   },
   "outputs": [
    {
     "data": {
      "text/html": [
       "<div>\n",
       "<style scoped>\n",
       "    .dataframe tbody tr th:only-of-type {\n",
       "        vertical-align: middle;\n",
       "    }\n",
       "\n",
       "    .dataframe tbody tr th {\n",
       "        vertical-align: top;\n",
       "    }\n",
       "\n",
       "    .dataframe thead th {\n",
       "        text-align: right;\n",
       "    }\n",
       "</style>\n",
       "<table border=\"1\" class=\"dataframe\">\n",
       "  <thead>\n",
       "    <tr style=\"text-align: right;\">\n",
       "      <th></th>\n",
       "      <th>0</th>\n",
       "      <th>1</th>\n",
       "      <th>2</th>\n",
       "      <th>3</th>\n",
       "      <th>4</th>\n",
       "      <th>5</th>\n",
       "      <th>6</th>\n",
       "      <th>7</th>\n",
       "      <th>8</th>\n",
       "      <th>9</th>\n",
       "      <th>...</th>\n",
       "      <th>990</th>\n",
       "      <th>991</th>\n",
       "      <th>992</th>\n",
       "      <th>993</th>\n",
       "      <th>994</th>\n",
       "      <th>995</th>\n",
       "      <th>996</th>\n",
       "      <th>997</th>\n",
       "      <th>998</th>\n",
       "      <th>999</th>\n",
       "    </tr>\n",
       "  </thead>\n",
       "  <tbody>\n",
       "    <tr>\n",
       "      <th>0</th>\n",
       "      <td>0</td>\n",
       "      <td>0</td>\n",
       "      <td>0</td>\n",
       "      <td>1</td>\n",
       "      <td>0</td>\n",
       "      <td>0</td>\n",
       "      <td>0</td>\n",
       "      <td>3</td>\n",
       "      <td>0</td>\n",
       "      <td>1</td>\n",
       "      <td>...</td>\n",
       "      <td>0</td>\n",
       "      <td>0</td>\n",
       "      <td>0</td>\n",
       "      <td>0</td>\n",
       "      <td>0</td>\n",
       "      <td>1</td>\n",
       "      <td>0</td>\n",
       "      <td>0</td>\n",
       "      <td>1</td>\n",
       "      <td>0</td>\n",
       "    </tr>\n",
       "    <tr>\n",
       "      <th>1</th>\n",
       "      <td>0</td>\n",
       "      <td>0</td>\n",
       "      <td>0</td>\n",
       "      <td>0</td>\n",
       "      <td>0</td>\n",
       "      <td>0</td>\n",
       "      <td>0</td>\n",
       "      <td>0</td>\n",
       "      <td>0</td>\n",
       "      <td>0</td>\n",
       "      <td>...</td>\n",
       "      <td>0</td>\n",
       "      <td>0</td>\n",
       "      <td>0</td>\n",
       "      <td>0</td>\n",
       "      <td>0</td>\n",
       "      <td>0</td>\n",
       "      <td>0</td>\n",
       "      <td>0</td>\n",
       "      <td>0</td>\n",
       "      <td>0</td>\n",
       "    </tr>\n",
       "    <tr>\n",
       "      <th>2</th>\n",
       "      <td>0</td>\n",
       "      <td>0</td>\n",
       "      <td>0</td>\n",
       "      <td>1</td>\n",
       "      <td>0</td>\n",
       "      <td>0</td>\n",
       "      <td>0</td>\n",
       "      <td>0</td>\n",
       "      <td>0</td>\n",
       "      <td>0</td>\n",
       "      <td>...</td>\n",
       "      <td>0</td>\n",
       "      <td>0</td>\n",
       "      <td>0</td>\n",
       "      <td>0</td>\n",
       "      <td>0</td>\n",
       "      <td>1</td>\n",
       "      <td>0</td>\n",
       "      <td>0</td>\n",
       "      <td>0</td>\n",
       "      <td>1</td>\n",
       "    </tr>\n",
       "    <tr>\n",
       "      <th>3</th>\n",
       "      <td>0</td>\n",
       "      <td>0</td>\n",
       "      <td>0</td>\n",
       "      <td>0</td>\n",
       "      <td>0</td>\n",
       "      <td>0</td>\n",
       "      <td>0</td>\n",
       "      <td>1</td>\n",
       "      <td>0</td>\n",
       "      <td>0</td>\n",
       "      <td>...</td>\n",
       "      <td>22</td>\n",
       "      <td>0</td>\n",
       "      <td>0</td>\n",
       "      <td>0</td>\n",
       "      <td>0</td>\n",
       "      <td>0</td>\n",
       "      <td>0</td>\n",
       "      <td>0</td>\n",
       "      <td>0</td>\n",
       "      <td>0</td>\n",
       "    </tr>\n",
       "    <tr>\n",
       "      <th>4</th>\n",
       "      <td>0</td>\n",
       "      <td>0</td>\n",
       "      <td>2</td>\n",
       "      <td>5</td>\n",
       "      <td>1</td>\n",
       "      <td>0</td>\n",
       "      <td>0</td>\n",
       "      <td>4</td>\n",
       "      <td>0</td>\n",
       "      <td>0</td>\n",
       "      <td>...</td>\n",
       "      <td>3</td>\n",
       "      <td>0</td>\n",
       "      <td>1</td>\n",
       "      <td>1</td>\n",
       "      <td>0</td>\n",
       "      <td>4</td>\n",
       "      <td>1</td>\n",
       "      <td>3</td>\n",
       "      <td>0</td>\n",
       "      <td>0</td>\n",
       "    </tr>\n",
       "  </tbody>\n",
       "</table>\n",
       "<p>5 rows × 1000 columns</p>\n",
       "</div>"
      ],
      "text/plain": [
       "   0    1    2    3    4    5    6    7    8    9    ...  990  991  992  993  \\\n",
       "0    0    0    0    1    0    0    0    3    0    1  ...    0    0    0    0   \n",
       "1    0    0    0    0    0    0    0    0    0    0  ...    0    0    0    0   \n",
       "2    0    0    0    1    0    0    0    0    0    0  ...    0    0    0    0   \n",
       "3    0    0    0    0    0    0    0    1    0    0  ...   22    0    0    0   \n",
       "4    0    0    2    5    1    0    0    4    0    0  ...    3    0    1    1   \n",
       "\n",
       "   994  995  996  997  998  999  \n",
       "0    0    1    0    0    1    0  \n",
       "1    0    0    0    0    0    0  \n",
       "2    0    1    0    0    0    1  \n",
       "3    0    0    0    0    0    0  \n",
       "4    0    4    1    3    0    0  \n",
       "\n",
       "[5 rows x 1000 columns]"
      ]
     },
     "execution_count": 11,
     "metadata": {},
     "output_type": "execute_result"
    }
   ],
   "source": [
    "df_tokens.head()"
   ]
  },
  {
   "cell_type": "markdown",
   "id": "06fa8435-c4e7-4822-912e-795e1e9dca05",
   "metadata": {},
   "source": [
    "#### MODEL TRAINING "
   ]
  },
  {
   "cell_type": "code",
   "execution_count": 83,
   "id": "101d77e6-ad44-422f-97be-6e1d7e911a42",
   "metadata": {
    "tags": []
   },
   "outputs": [],
   "source": [
    "X,x,Y,y = train_test_split(df_tokens,df_mails['label'], test_size = 0.2)"
   ]
  },
  {
   "cell_type": "code",
   "execution_count": 84,
   "id": "d10ddc8a-aa97-4770-a369-023520e3da87",
   "metadata": {},
   "outputs": [],
   "source": [
    "rf = RandomForestClassifier(n_estimators = 500, random_state=50)"
   ]
  },
  {
   "cell_type": "code",
   "execution_count": 85,
   "id": "769272e1-a12b-468a-b1a7-5d65fe2cc34b",
   "metadata": {},
   "outputs": [
    {
     "data": {
      "text/html": [
       "<style>#sk-container-id-2 {color: black;}#sk-container-id-2 pre{padding: 0;}#sk-container-id-2 div.sk-toggleable {background-color: white;}#sk-container-id-2 label.sk-toggleable__label {cursor: pointer;display: block;width: 100%;margin-bottom: 0;padding: 0.3em;box-sizing: border-box;text-align: center;}#sk-container-id-2 label.sk-toggleable__label-arrow:before {content: \"▸\";float: left;margin-right: 0.25em;color: #696969;}#sk-container-id-2 label.sk-toggleable__label-arrow:hover:before {color: black;}#sk-container-id-2 div.sk-estimator:hover label.sk-toggleable__label-arrow:before {color: black;}#sk-container-id-2 div.sk-toggleable__content {max-height: 0;max-width: 0;overflow: hidden;text-align: left;background-color: #f0f8ff;}#sk-container-id-2 div.sk-toggleable__content pre {margin: 0.2em;color: black;border-radius: 0.25em;background-color: #f0f8ff;}#sk-container-id-2 input.sk-toggleable__control:checked~div.sk-toggleable__content {max-height: 200px;max-width: 100%;overflow: auto;}#sk-container-id-2 input.sk-toggleable__control:checked~label.sk-toggleable__label-arrow:before {content: \"▾\";}#sk-container-id-2 div.sk-estimator input.sk-toggleable__control:checked~label.sk-toggleable__label {background-color: #d4ebff;}#sk-container-id-2 div.sk-label input.sk-toggleable__control:checked~label.sk-toggleable__label {background-color: #d4ebff;}#sk-container-id-2 input.sk-hidden--visually {border: 0;clip: rect(1px 1px 1px 1px);clip: rect(1px, 1px, 1px, 1px);height: 1px;margin: -1px;overflow: hidden;padding: 0;position: absolute;width: 1px;}#sk-container-id-2 div.sk-estimator {font-family: monospace;background-color: #f0f8ff;border: 1px dotted black;border-radius: 0.25em;box-sizing: border-box;margin-bottom: 0.5em;}#sk-container-id-2 div.sk-estimator:hover {background-color: #d4ebff;}#sk-container-id-2 div.sk-parallel-item::after {content: \"\";width: 100%;border-bottom: 1px solid gray;flex-grow: 1;}#sk-container-id-2 div.sk-label:hover label.sk-toggleable__label {background-color: #d4ebff;}#sk-container-id-2 div.sk-serial::before {content: \"\";position: absolute;border-left: 1px solid gray;box-sizing: border-box;top: 0;bottom: 0;left: 50%;z-index: 0;}#sk-container-id-2 div.sk-serial {display: flex;flex-direction: column;align-items: center;background-color: white;padding-right: 0.2em;padding-left: 0.2em;position: relative;}#sk-container-id-2 div.sk-item {position: relative;z-index: 1;}#sk-container-id-2 div.sk-parallel {display: flex;align-items: stretch;justify-content: center;background-color: white;position: relative;}#sk-container-id-2 div.sk-item::before, #sk-container-id-2 div.sk-parallel-item::before {content: \"\";position: absolute;border-left: 1px solid gray;box-sizing: border-box;top: 0;bottom: 0;left: 50%;z-index: -1;}#sk-container-id-2 div.sk-parallel-item {display: flex;flex-direction: column;z-index: 1;position: relative;background-color: white;}#sk-container-id-2 div.sk-parallel-item:first-child::after {align-self: flex-end;width: 50%;}#sk-container-id-2 div.sk-parallel-item:last-child::after {align-self: flex-start;width: 50%;}#sk-container-id-2 div.sk-parallel-item:only-child::after {width: 0;}#sk-container-id-2 div.sk-dashed-wrapped {border: 1px dashed gray;margin: 0 0.4em 0.5em 0.4em;box-sizing: border-box;padding-bottom: 0.4em;background-color: white;}#sk-container-id-2 div.sk-label label {font-family: monospace;font-weight: bold;display: inline-block;line-height: 1.2em;}#sk-container-id-2 div.sk-label-container {text-align: center;}#sk-container-id-2 div.sk-container {/* jupyter's `normalize.less` sets `[hidden] { display: none; }` but bootstrap.min.css set `[hidden] { display: none !important; }` so we also need the `!important` here to be able to override the default hidden behavior on the sphinx rendered scikit-learn.org. See: https://github.com/scikit-learn/scikit-learn/issues/21755 */display: inline-block !important;position: relative;}#sk-container-id-2 div.sk-text-repr-fallback {display: none;}</style><div id=\"sk-container-id-2\" class=\"sk-top-container\"><div class=\"sk-text-repr-fallback\"><pre>RandomForestClassifier(n_estimators=500, random_state=50)</pre><b>In a Jupyter environment, please rerun this cell to show the HTML representation or trust the notebook. <br />On GitHub, the HTML representation is unable to render, please try loading this page with nbviewer.org.</b></div><div class=\"sk-container\" hidden><div class=\"sk-item\"><div class=\"sk-estimator sk-toggleable\"><input class=\"sk-toggleable__control sk-hidden--visually\" id=\"sk-estimator-id-2\" type=\"checkbox\" checked><label for=\"sk-estimator-id-2\" class=\"sk-toggleable__label sk-toggleable__label-arrow\">RandomForestClassifier</label><div class=\"sk-toggleable__content\"><pre>RandomForestClassifier(n_estimators=500, random_state=50)</pre></div></div></div></div></div>"
      ],
      "text/plain": [
       "RandomForestClassifier(n_estimators=500, random_state=50)"
      ]
     },
     "execution_count": 85,
     "metadata": {},
     "output_type": "execute_result"
    }
   ],
   "source": [
    "rf.fit(X,Y)"
   ]
  },
  {
   "cell_type": "code",
   "execution_count": 86,
   "id": "b0908c45-d554-4050-a2a1-886d7bb269c9",
   "metadata": {},
   "outputs": [],
   "source": [
    "y_predictions = rf.predict(x)"
   ]
  },
  {
   "cell_type": "markdown",
   "id": "34e0eed3-3a46-4ad8-bb96-ed7733c59aff",
   "metadata": {},
   "source": [
    "#### MODEL EVALUATION"
   ]
  },
  {
   "cell_type": "code",
   "execution_count": 87,
   "id": "cd8357dd-2019-4760-97c0-4deb977f38e6",
   "metadata": {},
   "outputs": [],
   "source": [
    "accuracy= accuracy_score(y,y_predictions)\n",
    "precision = precision_score(y,y_predictions)\n",
    "recall = recall_score(y,y_predictions)"
   ]
  },
  {
   "cell_type": "code",
   "execution_count": 88,
   "id": "a81fa5ab-28e2-48e9-8716-ce8a2d2c5291",
   "metadata": {},
   "outputs": [],
   "source": [
    "conf_mat=confusion_matrix(y,y_predictions)"
   ]
  },
  {
   "cell_type": "code",
   "execution_count": 89,
   "id": "6fce70b8-e851-4e5b-8c4e-1e3c1abb4aa3",
   "metadata": {},
   "outputs": [
    {
     "data": {
      "text/plain": [
       "0.9821428571428571"
      ]
     },
     "execution_count": 89,
     "metadata": {},
     "output_type": "execute_result"
    }
   ],
   "source": [
    "accuracy"
   ]
  },
  {
   "cell_type": "code",
   "execution_count": 90,
   "id": "13a4c758-bb9b-4820-af68-582b2f8d777d",
   "metadata": {},
   "outputs": [
    {
     "data": {
      "text/plain": [
       "array([[548,   7],\n",
       "       [  8, 277]], dtype=int64)"
      ]
     },
     "execution_count": 90,
     "metadata": {},
     "output_type": "execute_result"
    }
   ],
   "source": [
    "conf_mat"
   ]
  },
  {
   "cell_type": "code",
   "execution_count": 91,
   "id": "b21dd0c3-cd53-4cda-96d4-3ec696aeb339",
   "metadata": {
    "tags": []
   },
   "outputs": [
    {
     "data": {
      "text/plain": [
       "0.9736379613356767"
      ]
     },
     "execution_count": 91,
     "metadata": {},
     "output_type": "execute_result"
    }
   ],
   "source": [
    "f1 = f1_score(y,y_predictions)\n",
    "f1"
   ]
  },
  {
   "cell_type": "code",
   "execution_count": 92,
   "id": "cb28727a-e04a-4b15-b48b-8d37030bfb7a",
   "metadata": {},
   "outputs": [
    {
     "data": {
      "text/plain": [
       "0.9753521126760564"
      ]
     },
     "execution_count": 92,
     "metadata": {},
     "output_type": "execute_result"
    }
   ],
   "source": [
    "precision"
   ]
  },
  {
   "cell_type": "code",
   "execution_count": 22,
   "id": "81ab9196-653b-4e3e-a55b-94dd30df559d",
   "metadata": {},
   "outputs": [
    {
     "data": {
      "text/plain": [
       "0.9554455445544554"
      ]
     },
     "execution_count": 22,
     "metadata": {},
     "output_type": "execute_result"
    }
   ],
   "source": [
    "recall"
   ]
  },
  {
   "cell_type": "markdown",
   "id": "82643fc5-cdae-42a8-8056-73014456af45",
   "metadata": {},
   "source": [
    "### Visualizing the Results"
   ]
  },
  {
   "cell_type": "markdown",
   "id": "52f3381c-14c9-419d-b804-ced69e5cc494",
   "metadata": {
    "tags": []
   },
   "source": [
    "#### _Confusion Matrix_"
   ]
  },
  {
   "cell_type": "code",
   "execution_count": 93,
   "id": "d63eaa8b-b6c3-4672-9ab1-63607ecff5f5",
   "metadata": {},
   "outputs": [
    {
     "data": {
      "text/plain": [
       "<Axes: >"
      ]
     },
     "execution_count": 93,
     "metadata": {},
     "output_type": "execute_result"
    },
    {
     "data": {
      "image/png": "[encoded data removed]",
      "text/plain": [
       "<Figure size 640x480 with 2 Axes>"
      ]
     },
     "metadata": {},
     "output_type": "display_data"
    }
   ],
   "source": [
    "sns.heatmap(conf_mat,annot=True,fmt='d')"
   ]
  },
  {
   "cell_type": "markdown",
   "id": "9d16eee9-cf05-4b2f-abb4-500784f768fa",
   "metadata": {
    "tags": []
   },
   "source": [
    "#### _Area Under Curve (AUC)_"
   ]
  },
  {
   "cell_type": "code",
   "execution_count": 94,
   "id": "2ee7d0ca-f2bf-48ce-b09b-33d8b8f7e674",
   "metadata": {},
   "outputs": [],
   "source": [
    "p,r,_ = precision_recall_curve(y,y_predictions)"
   ]
  },
  {
   "cell_type": "code",
   "execution_count": 95,
   "id": "2698eab0-0031-4c77-8a61-cad678f55ea7",
   "metadata": {},
   "outputs": [
    {
     "data": {
      "text/plain": [
       "[<matplotlib.lines.Line2D at 0x28c16367d90>]"
      ]
     },
     "execution_count": 95,
     "metadata": {},
     "output_type": "execute_result"
    },
    {
     "data": {
      "image/png": "[encoded data removed]",
      "text/plain": [
       "<Figure size 640x480 with 1 Axes>"
      ]
     },
     "metadata": {},
     "output_type": "display_data"
    }
   ],
   "source": [
    "plt.plot(p,r,color='violet')"
   ]
  },
  {
   "cell_type": "code",
   "execution_count": 96,
   "id": "3be242c9-3a64-4981-beff-007887029c2e",
   "metadata": {},
   "outputs": [],
   "source": [
    "y = list(y)\n",
    "y_predictions = list(y_predictions)"
   ]
  },
  {
   "cell_type": "code",
   "execution_count": 97,
   "id": "a66ca662-6bb9-4a3c-b885-f7dd90339c94",
   "metadata": {
    "tags": []
   },
   "outputs": [],
   "source": [
    "#list of all unique labels \n",
    "u = list(set(y+y_predictions))\n",
    "\n",
    "#count of actual labels -0s and 1s in y \n",
    "a = [y.count(label) for label in u]\n",
    "\n",
    "#count of predicted labels -0s and 1s in y_hat\n",
    "p = [y_predictions.count(label) for label in u] "
   ]
  },
  {
   "cell_type": "markdown",
   "id": "68779498-decc-4ada-a57d-b8af841eefb7",
   "metadata": {},
   "source": [
    "#### Comparing Actual values to Predicted values"
   ]
  },
  {
   "cell_type": "code",
   "execution_count": 98,
   "id": "f71a92e5-ce4f-4071-862b-fc65ac90a0bb",
   "metadata": {
    "tags": []
   },
   "outputs": [
    {
     "data": {
      "image/png": "[encoded data removed]",
      "text/plain": [
       "<Figure size 400x500 with 1 Axes>"
      ]
     },
     "metadata": {},
     "output_type": "display_data"
    }
   ],
   "source": [
    "fig,ax = plt.subplots(figsize=(4,5))\n",
    "b_width = 0.40\n",
    "x = np.arange(len(u))\n",
    "ax.bar(x - b_width/2, a , b_width ,label='Actual',color='teal')\n",
    "ax.bar(x +b_width/2,p, b_width,label=\"Predicted\",color='orange')\n",
    "ax.set_xlabel(\"Mail Category\")\n",
    "ax.set_ylabel(\"Number of Mails\")\n",
    "ax.set_xticks(x)\n",
    "ax.set_xticklabels(['Not Spam','Spam'])\n",
    "ax.legend()\n",
    "ax.set_title('Actual vs Predicted values')\n",
    "plt.tight_layout()"
   ]
  }
 ],
 "metadata": {
  "kernelspec": {
   "display_name": "spamenv",
   "language": "python",
   "name": "spamenv"
  },
  "language_info": {
   "codemirror_mode": {
    "name": "ipython",
    "version": 3
   },
   "file_extension": ".py",
   "mimetype": "text/x-python",
   "name": "python",
   "nbconvert_exporter": "python",
   "pygments_lexer": "ipython3",
   "version": "3.10.9"
  }
 },
 "nbformat": 4,
 "nbformat_minor": 5
}
